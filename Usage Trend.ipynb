{
 "cells": [
  {
   "cell_type": "code",
   "execution_count": 5,
   "metadata": {},
   "outputs": [],
   "source": [
    "import pandas as pd\n",
    "import numpy as np\n",
    "import os\n",
    "import matplotlib.pyplot as plt  \n",
    "from datetime import datetime,timedelta\n",
    "import time\n",
    "import re"
   ]
  },
  {
   "cell_type": "code",
   "execution_count": 74,
   "metadata": {},
   "outputs": [],
   "source": [
    "#read data\n",
    "data0=pd.read_csv('usage1.csv')\n",
    "data1=pd.read_csv('usage2.csv')\n",
    "data2=pd.read_excel('WCC.xlsx',sheet_name='DASHBOARD')\n",
    "data_all=data1.append(data0)\n",
    "com_info=pd.read_csv('customers.csv',encoding = \"utf-8\")\n",
    "grp_info=pd.read_csv('customer segment2.csv',encoding = \"utf-8\")"
   ]
  },
  {
   "cell_type": "code",
   "execution_count": 76,
   "metadata": {},
   "outputs": [
    {
     "data": {
      "text/plain": [
       "nan"
      ]
     },
     "execution_count": 76,
     "metadata": {},
     "output_type": "execute_result"
    }
   ],
   "source": [
    "all_list=list(grp_info['Account Name'])\n",
    "comlist=list(commonset)\n",
    "comlist.pop(0)"
   ]
  },
  {
   "cell_type": "code",
   "execution_count": 77,
   "metadata": {},
   "outputs": [],
   "source": [
    "#get company:num dict\n",
    "comdict=dict()\n",
    "list1=[]\n",
    "#comlist.pop(0)\n",
    "for i in range(len(comlist)):\n",
    "    com_name=comlist[i]\n",
    "    for j in range(len(all_list)):\n",
    "        full_name=all_list[j]\n",
    "        search = re.search(com_name,full_name)\n",
    "        #s2=re.search(full_name,com_name)\n",
    "        if search != None:\n",
    "            comdict[com_name]=j\n",
    "            list1.append(com_name)\n",
    "            break\n",
    "        #elif s2 != None:\n",
    "        #    comdict[com_name]=j\n",
    "        #    list1.append(com_name)\n",
    "        #    break\n"
   ]
  },
  {
   "cell_type": "code",
   "execution_count": 82,
   "metadata": {},
   "outputs": [],
   "source": [
    "diff=list(set(comlist)-set(list1))"
   ]
  },
  {
   "cell_type": "code",
   "execution_count": 112,
   "metadata": {},
   "outputs": [],
   "source": [
    "nlist=[238,305,171,453,42,330,413,306,189,398,417,234,319,41,312,88,390,269,298,403,270,361,237]"
   ]
  },
  {
   "cell_type": "code",
   "execution_count": 209,
   "metadata": {
    "scrolled": true
   },
   "outputs": [
    {
     "data": {
      "text/plain": [
       "'White Crow Research'"
      ]
     },
     "execution_count": 209,
     "metadata": {},
     "output_type": "execute_result"
    }
   ],
   "source": [
    "#manually find the position\n",
    "num=239\n",
    "num2=num-2\n",
    "all_list[num]\n",
    "diff=list(commonset-set(list1))\n",
    "#diff.remove('everythingsourcing.com')\n",
    "#diff\n",
    "numlist.append(num2)\n",
    "numlist"
   ]
  },
  {
   "cell_type": "code",
   "execution_count": null,
   "metadata": {},
   "outputs": [],
   "source": [
    "for i in range(len(dlist)):\n",
    "    key=dlist[i]\n",
    "    num=numlist[i]\n",
    "    comdict[key]=num"
   ]
  },
  {
   "cell_type": "code",
   "execution_count": null,
   "metadata": {},
   "outputs": [],
   "source": [
    "#check for comdict\n",
    "comdict=x\n",
    "keys=list(comdict.keys())\n",
    "for i in range(len(comdict)):\n",
    "    key=keys[i]\n",
    "    num=comdict[key]\n",
    "    com=grp_info['Account Name'][num]\n",
    "    print(key,\"//\",com)"
   ]
  },
  {
   "cell_type": "code",
   "execution_count": 11,
   "metadata": {},
   "outputs": [],
   "source": [
    "data=data_all\n",
    "com_list=list(commonset)\n",
    "subdata=data.loc[data['company'].isin(com_list)]"
   ]
  },
  {
   "cell_type": "code",
   "execution_count": 56,
   "metadata": {},
   "outputs": [],
   "source": [
    "alist1=[customers name...]\n",
    "alist2=[ customers name...]"
   ]
  },
  {
   "cell_type": "code",
   "execution_count": 57,
   "metadata": {},
   "outputs": [],
   "source": [
    "def get_data(data,itemlist,comlist):\n",
    "    subdata=data.loc[data['team_type'].isin(itemlist)]\n",
    "    #subdata=subdata.loc[subdata['team_subscription_poc_company'].isin(com_list)]\n",
    "    subdata.index=pd.to_datetime(subdata['date'],format='%Y/%m/%d %H:%M')\n",
    "    grouped=subdata.groupby(by=[,subdata.index.year,subdata.index.month]).sum()\n",
    "    return grouped"
   ]
  },
  {
   "cell_type": "code",
   "execution_count": null,
   "metadata": {},
   "outputs": [],
   "source": [
    "data=subdata\n",
    "comlist=alist2\n",
    "item_list=['function1','function2','function3']\n",
    "\n",
    "grouped=get_data(data,itemlist,comlist)\n",
    "grouped"
   ]
  },
  {
   "cell_type": "code",
   "execution_count": 121,
   "metadata": {},
   "outputs": [],
   "source": [
    "data=data_all\n",
    "subdata=data.loc[data['company'].isin(comlist)]\n",
    "data3=subdata.copy(deep=True)\n",
    "data3['Market Segment']='none'\n",
    "data3['Industry']='none'\n",
    "#data3['Type']='none'"
   ]
  },
  {
   "cell_type": "code",
   "execution_count": 123,
   "metadata": {},
   "outputs": [
    {
     "name": "stderr",
     "output_type": "stream",
     "text": [
      "C:\\anaconda\\lib\\site-packages\\pandas\\core\\indexing.py:494: SettingWithCopyWarning: \n",
      "A value is trying to be set on a copy of a slice from a DataFrame.\n",
      "Try using .loc[row_indexer,col_indexer] = value instead\n",
      "\n",
      "See the caveats in the documentation: http://pandas.pydata.org/pandas-docs/stable/user_guide/indexing.html#returning-a-view-versus-a-copy\n",
      "  self.obj[item] = s\n"
     ]
    }
   ],
   "source": [
    "columns=list(data3.columns)\n",
    "df=pd.DataFrame(columns=columns)\n",
    "keys=list(comdict.keys())\n",
    "com_info=grp_info\n",
    "#for i in range(1):\n",
    "for i in range(len(keys)):\n",
    "    key=keys[i]\n",
    "    num=comdict[key]\n",
    "    segment=com_info['Segment'][num]\n",
    "    industry=com_info['Industry'][num]\n",
    "    #busi=com_info['Business vs Recruiting Agency'][num]\n",
    "    subdf=data3.loc[data3['company']==key]\n",
    "    subdf.loc[:,'Market Segment']=segment\n",
    "    subdf.loc[:,'Industry']=industry\n",
    "    #subdf.loc[:,'Type']=busi\n",
    "    df=df.append(subdf)"
   ]
  },
  {
   "cell_type": "code",
   "execution_count": 138,
   "metadata": {},
   "outputs": [],
   "source": [
    "data=df\n",
    "item_list=['function1','function2','function3']\n",
    "grp='Industry'\n",
    "grouped = get_grp(data,itemlist,grp)"
   ]
  },
  {
   "cell_type": "code",
   "execution_count": 135,
   "metadata": {
    "collapsed": true
   },
   "outputs": [],
   "source": [
    "def get_grp(data,itemlist,grp):\n",
    "    subdata=data.loc[data['team_type'].isin(itemlist)]\n",
    "    subdata.index=pd.to_datetime(subdata['date'],format='%Y/%m/%d %H:%M')\n",
    "    grouped=subdata.groupby(by=[subdata[grp],subdata['team_type'],subdata.index.year,subdata.index.month])['team_report_value'].sum()\n",
    "    return grouped"
   ]
  },
  {
   "cell_type": "code",
   "execution_count": 17,
   "metadata": {
    "scrolled": false
   },
   "outputs": [],
   "source": [
    "list(data['team_type'].drop_duplicates())"
   ]
  },
  {
   "cell_type": "code",
   "execution_count": 22,
   "metadata": {},
   "outputs": [],
   "source": [
    "def get_monthly(data,item,comlist):\n",
    "    subdata=data.loc[data['team_type']==item]\n",
    "    subdata=subdata.loc[subdata['company'].isin(com_list)]\n",
    "    subdata.index=pd.to_datetime(subdata['date'],format='%Y/%m/%d %H:%M')\n",
    "    grouped=subdata.groupby(by=[subdata.index.year,subdata.index.month]).sum()\n",
    "    return grouped"
   ]
  },
  {
   "cell_type": "code",
   "execution_count": 7,
   "metadata": {},
   "outputs": [],
   "source": [
    "#get company lists\n",
    "data=data_all\n",
    "data.index=pd.to_datetime(data['date'],format='%Y/%m/%d %H:%M')\n",
    "com_grp=data.groupby(by=[data.index.year,data.index.month])['company'].unique()\n",
    "\n",
    "# get common users\n",
    "def common_com(df,num):\n",
    "    length=len(df.index.tolist())-1\n",
    "    set1=set(df[length])\n",
    "    commonset=set1\n",
    "    count=1\n",
    "    for i in range(num):\n",
    "        set2=set(df[length-i-1])\n",
    "        commonset=commonset&set2\n",
    "        count+=1\n",
    "    return (commonset)\n",
    "\n",
    "df=com_grp\n",
    "length=len(df.index.tolist())-1\n",
    "commonset=common_com(com_grp,length)\n",
    "\n",
    "# delete churnned companies\n",
    "churnset=set([company names...])\n",
    "commonset=commonset-churnset"
   ]
  },
  {
   "cell_type": "code",
   "execution_count": 51,
   "metadata": {},
   "outputs": [],
   "source": [
    "data=data0\n",
    "item='total_qualified'\n",
    "com_list=list(commonset)\n",
    "grouped = get_monthly(data,item,com_list)"
   ]
  },
  {
   "cell_type": "code",
   "execution_count": 24,
   "metadata": {},
   "outputs": [],
   "source": [
    "#define variables\n",
    "col_name='team_report_type'\n",
    "item_list=['function1 ','function2','funtion3']\n",
    "item='function2'\n",
    "\n",
    "subdata=data.loc[data[col_name]==item]\n",
    "subdata.index=pd.to_datetime(subdata['date'],format='%Y/%m/%d %H:%M')\n",
    "grouped=subdata.groupby(by=['company','team_type',subdata.index.year,subdata.index.month]).sum()\n",
    "#subdata.resample('M').sum()"
   ]
  },
  {
   "cell_type": "code",
   "execution_count": 111,
   "metadata": {},
   "outputs": [],
   "source": [
    "#计算dashboard的月数据\n",
    "data3=data2.copy(deep=True)\n",
    "data3['Period']=data3['Period'].apply(lambda x: x[14:])\n",
    "data3.index=pd.to_datetime(data3['Period'],format='%Y-%m-%d')\n",
    "summary=data3.resample('M').sum()"
   ]
  }
 ],
 "metadata": {
  "kernelspec": {
   "display_name": "Python 3",
   "language": "python",
   "name": "python3"
  },
  "language_info": {
   "codemirror_mode": {
    "name": "ipython",
    "version": 3
   },
   "file_extension": ".py",
   "mimetype": "text/x-python",
   "name": "python",
   "nbconvert_exporter": "python",
   "pygments_lexer": "ipython3",
   "version": "3.7.4"
  }
 },
 "nbformat": 4,
 "nbformat_minor": 2
}
